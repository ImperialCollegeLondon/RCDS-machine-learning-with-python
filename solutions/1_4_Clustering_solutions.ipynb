{
 "cells": [
  {
   "cell_type": "markdown",
   "id": "5e18bf42",
   "metadata": {},
   "source": [
    "### Exercise\n",
    "Try clustering the `digits` dataset with a method of your choice.\n",
    "\n",
    "Give an evaluation of performance.\n"
   ]
  },
  {
   "cell_type": "code",
   "execution_count": 13,
   "id": "4e948fca",
   "metadata": {},
   "outputs": [
    {
     "data": {
      "text/plain": [
       "array([4, 6, 6, ..., 6, 2, 5], dtype=int32)"
      ]
     },
     "execution_count": 13,
     "metadata": {},
     "output_type": "execute_result"
    }
   ],
   "source": [
    "from sklearn.datasets import load_digits\n",
    "digits = load_digits()\n",
    "\n",
    "from sklearn.cluster import KMeans\n",
    "kmeans = KMeans(n_clusters=10, n_init='auto')\n",
    "y_pred = kmeans.fit_predict(digits.data)\n",
    "y_pred\n"
   ]
  },
  {
   "cell_type": "code",
   "execution_count": 14,
   "id": "8670b29f",
   "metadata": {},
   "outputs": [
    {
     "data": {
      "text/plain": [
       "0.5665809948125649"
      ]
     },
     "execution_count": 14,
     "metadata": {},
     "output_type": "execute_result"
    }
   ],
   "source": [
    "from sklearn.metrics import adjusted_rand_score\n",
    "adjusted_rand_score(digits.target,y_pred)"
   ]
  }
 ],
 "metadata": {
  "kernelspec": {
   "display_name": "Python 3",
   "language": "python",
   "name": "python3"
  },
  "language_info": {
   "codemirror_mode": {
    "name": "ipython",
    "version": 3
   },
   "file_extension": ".py",
   "mimetype": "text/x-python",
   "name": "python",
   "nbconvert_exporter": "python",
   "pygments_lexer": "ipython3",
   "version": "3.8.19"
  }
 },
 "nbformat": 4,
 "nbformat_minor": 5
}
