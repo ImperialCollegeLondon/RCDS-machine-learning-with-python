{
 "cells": [
  {
   "cell_type": "markdown",
   "metadata": {},
   "source": [
    "# Machine Learning with Python"
   ]
  },
  {
   "cell_type": "markdown",
   "metadata": {},
   "source": [
    "## Final Exam\n",
    "\n",
    "The file `heart_disease.csv` contains data on a cohort of patients with and without heart disease, as described at https://archive.ics.uci.edu/dataset/45/heart+disease .\n",
    "\n",
    "The final column in the data table (labelled `num`) gives a numerical indication of the severity of the patient's heart disease, from 0 (no disease is present) up to 4.\n",
    "\n",
    "Note that some of the features may contain missing data, indicated by `?`."
   ]
  },
  {
   "cell_type": "markdown",
   "id": "9c9095cb",
   "metadata": {},
   "source": [
    "## 1.\n",
    "Load the data and prepare training and testing datasets ready for a binary classifier, i.e. you should simply predict whether disease is absent (`num`=0) or present (`num`=1,2,3 or 4)."
   ]
  },
  {
   "cell_type": "code",
   "execution_count": null,
   "id": "f3aa471d",
   "metadata": {},
   "outputs": [],
   "source": []
  },
  {
   "cell_type": "markdown",
   "metadata": {},
   "source": [
    "## 2.\n",
    "Using 5-fold cross-validation, estimate the performance of a random forest classifier on the training data."
   ]
  },
  {
   "cell_type": "code",
   "execution_count": null,
   "id": "b5ff90f4",
   "metadata": {},
   "outputs": [],
   "source": []
  },
  {
   "cell_type": "markdown",
   "id": "45f56801",
   "metadata": {},
   "source": [
    "## 3.\n",
    "Train your classifier on the full training dataset and evaluate its performance on the testing dataset."
   ]
  },
  {
   "cell_type": "code",
   "execution_count": null,
   "id": "eaff923e",
   "metadata": {},
   "outputs": [],
   "source": []
  },
  {
   "cell_type": "markdown",
   "id": "6de070c7",
   "metadata": {},
   "source": [
    "## 4.\n",
    "Plot the ROC curve for your final classifier using the testing dataset."
   ]
  },
  {
   "cell_type": "code",
   "execution_count": null,
   "id": "cd607d87",
   "metadata": {},
   "outputs": [],
   "source": []
  },
  {
   "cell_type": "markdown",
   "id": "30f65ce2",
   "metadata": {},
   "source": [
    "---"
   ]
  }
 ],
 "metadata": {
  "kernelspec": {
   "display_name": "base",
   "language": "python",
   "name": "python3"
  },
  "language_info": {
   "codemirror_mode": {
    "name": "ipython",
    "version": 3
   },
   "file_extension": ".py",
   "mimetype": "text/x-python",
   "name": "python",
   "nbconvert_exporter": "python",
   "pygments_lexer": "ipython3",
   "version": "3.8.3"
  }
 },
 "nbformat": 4,
 "nbformat_minor": 5
}
